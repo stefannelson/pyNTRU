{
 "cells": [
  {
   "cell_type": "code",
   "execution_count": 1,
   "metadata": {},
   "outputs": [],
   "source": [
    "from ntru_utils import *\n",
    "from ntru_workflow import *\n",
    "from parameters import *"
   ]
  },
  {
   "cell_type": "code",
   "execution_count": 2,
   "metadata": {},
   "outputs": [
    {
     "name": "stdout",
     "output_type": "stream",
     "text": [
      "Not in long division!\n",
      "Not in long division!\n",
      "Not in long division!\n"
     ]
    }
   ],
   "source": [
    "# %%timeit\n",
    "message = B(100) # Ramdomize message of 0,1,-1 coeffs #[1,0,1,1,-1,0,1]\n",
    "pub_key, pri_key = keyGen(p,q,N)"
   ]
  },
  {
   "cell_type": "code",
   "execution_count": 3,
   "metadata": {},
   "outputs": [],
   "source": [
    "# Output h\n",
    "#print(\"h = \")\n",
    "#print(pub_key[1])\n",
    "# print(\"-\"*10)"
   ]
  },
  {
   "cell_type": "code",
   "execution_count": 4,
   "metadata": {},
   "outputs": [],
   "source": [
    "# Output message as polynomial \n",
    "#print(\"Message:\")\n",
    "#print(\"-\"*10)\n",
    "\n",
    "#print(trunc_polynomial(message))\n",
    "\n",
    "#print(\"-\"*10)"
   ]
  },
  {
   "cell_type": "code",
   "execution_count": 3,
   "metadata": {},
   "outputs": [
    {
     "name": "stdout",
     "output_type": "stream",
     "text": [
      "Not in long division!\n"
     ]
    }
   ],
   "source": [
    "# Encrypt and output\n",
    "ciphertext = encrypt(message, pub_key)\n",
    "\n",
    "#print(\"Ciphertext:\")\n",
    "#print(\"-\"*10)\n",
    "\n",
    "#print(ciphertext)\n",
    "\n",
    "#print(\"-\"*10)"
   ]
  },
  {
   "cell_type": "code",
   "execution_count": 4,
   "metadata": {},
   "outputs": [
    {
     "name": "stdout",
     "output_type": "stream",
     "text": [
      "Not in long division!\n",
      "Not in long division!\n",
      "Do they match? True\n"
     ]
    }
   ],
   "source": [
    "# Decrypt, output, and determine if it's same as original msg\n",
    "new_message = decrypt(ciphertext, pri_key)\n",
    "\n",
    "#print(\"Decrypted Message:\")\n",
    "#print(\"-\"*10)\n",
    "\n",
    "#print(new_message)\n",
    "\n",
    "#print(\"-\"*10)\n",
    "\n",
    "\n",
    "print(\"Do they match?\",\n",
    "       trunc_polynomial(message).mod(p) == new_message)"
   ]
  }
 ],
 "metadata": {
  "interpreter": {
   "hash": "539472148420576740dd1538b292eda56f8fb78ed829a7778563948d276bd7e0"
  },
  "kernelspec": {
   "display_name": "Python 3.8.8 64-bit",
   "name": "python3"
  },
  "language_info": {
   "codemirror_mode": {
    "name": "ipython",
    "version": 3
   },
   "file_extension": ".py",
   "mimetype": "text/x-python",
   "name": "python",
   "nbconvert_exporter": "python",
   "pygments_lexer": "ipython3",
   "version": "3.9.5"
  },
  "orig_nbformat": 4
 },
 "nbformat": 4,
 "nbformat_minor": 2
}
