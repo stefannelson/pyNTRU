{
 "cells": [
  {
   "cell_type": "code",
   "execution_count": 1,
   "source": [
    "from ntru_utils import *\n",
    "from ntru_workflow import *\n",
    "from parameters import *"
   ],
   "outputs": [],
   "metadata": {}
  },
  {
   "cell_type": "code",
   "execution_count": 2,
   "source": [
    "message = [1,0,1,1,-1,0,1]\n",
    "pub_key, pri_key = keyGen(p,q,N)"
   ],
   "outputs": [],
   "metadata": {}
  },
  {
   "cell_type": "code",
   "execution_count": 3,
   "source": [
    "# Output h\n",
    "print(\"h = \")\n",
    "print(pub_key[1])\n",
    "# print(\"-\"*10)"
   ],
   "outputs": [
    {
     "output_type": "stream",
     "name": "stdout",
     "text": [
      "h = \n",
      "   10       9     8       7     6      5      2\n",
      "1 x  + 119 x + 2 x + 120 x + 1 x + 60 x + 60 x + 61 x + 121\n"
     ]
    }
   ],
   "metadata": {}
  },
  {
   "cell_type": "code",
   "execution_count": 4,
   "source": [
    "# Output message as polynomial \n",
    "print(\"Message:\")\n",
    "print(\"-\"*10)\n",
    "\n",
    "print(trunc_polynomial(message))\n",
    "\n",
    "print(\"-\"*10)"
   ],
   "outputs": [
    {
     "output_type": "stream",
     "name": "stdout",
     "text": [
      "Message:\n",
      "----------\n",
      "   6     4     3     2\n",
      "1 x + 1 x + 1 x - 1 x + 1\n",
      "----------\n"
     ]
    }
   ],
   "metadata": {}
  },
  {
   "cell_type": "code",
   "execution_count": 5,
   "source": [
    "# Encrypt and output\n",
    "ciphertext = encrypt(message, pub_key)\n",
    "\n",
    "print(\"Ciphertext:\")\n",
    "print(\"-\"*10)\n",
    "\n",
    "print(ciphertext)\n",
    "\n",
    "print(\"-\"*10)"
   ],
   "outputs": [
    {
     "output_type": "stream",
     "name": "stdout",
     "text": [
      "Ciphertext:\n",
      "----------\n",
      "   10      9      8      7     6      5      4      3      2\n",
      "3 x  + 58 x + 58 x + 59 x + 6 x + 51 x + 11 x + 46 x + 13 x + 52 x + 58\n",
      "----------\n"
     ]
    }
   ],
   "metadata": {}
  },
  {
   "cell_type": "code",
   "execution_count": 6,
   "source": [
    "# Decrypt, output, and determine if it's same as original msg\n",
    "new_message = decrypt(ciphertext, pri_key)\n",
    "\n",
    "print(\"Decrypted Message:\")\n",
    "print(\"-\"*10)\n",
    "\n",
    "print(new_message)\n",
    "\n",
    "print(\"-\"*10)\n",
    "\n",
    "\n",
    "print(\"Do they match?\",trunc_polynomial(message).mod(p) == new_message)"
   ],
   "outputs": [
    {
     "output_type": "stream",
     "name": "stdout",
     "text": [
      "Decrypted Message:\n",
      "----------\n",
      "   7     5     4     2\n",
      "1 x + 2 x + 2 x + 1 x\n",
      "----------\n",
      "Do they match? False\n"
     ]
    }
   ],
   "metadata": {}
  },
  {
   "cell_type": "code",
   "execution_count": 5,
   "source": [
    "x = trunc_poly([0], n=5)\n",
    "print(x)"
   ],
   "outputs": [
    {
     "output_type": "stream",
     "name": "stdout",
     "text": [
      " \n",
      "0\n"
     ]
    }
   ],
   "metadata": {}
  }
 ],
 "metadata": {
  "orig_nbformat": 4,
  "language_info": {
   "name": "python",
   "version": "3.8.8",
   "mimetype": "text/x-python",
   "codemirror_mode": {
    "name": "ipython",
    "version": 3
   },
   "pygments_lexer": "ipython3",
   "nbconvert_exporter": "python",
   "file_extension": ".py"
  },
  "kernelspec": {
   "name": "python3",
   "display_name": "Python 3.8.8 64-bit ('base': conda)"
  },
  "interpreter": {
   "hash": "539472148420576740dd1538b292eda56f8fb78ed829a7778563948d276bd7e0"
  }
 },
 "nbformat": 4,
 "nbformat_minor": 2
}