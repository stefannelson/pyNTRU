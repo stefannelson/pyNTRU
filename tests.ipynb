{
 "cells": [
  {
   "cell_type": "code",
   "execution_count": 26,
   "source": [
    "from ntru_utils import *\n",
    "from ntru_workflow import *\n",
    "\n",
    "def test_NTRU(params):\n",
    "    msg, N, p, q, a, df, dg, dr = params\n",
    "    pub_key, pri_key = keyGen(p,q,N)\n",
    "    ciphertext = encrypt(msg, pub_key)\n",
    "    new_msg = decrypt(ciphertext, pri_key)\n",
    "    return trunc_polynomial(msg).mod(p) == new_msg\n"
   ],
   "outputs": [],
   "metadata": {}
  },
  {
   "cell_type": "code",
   "execution_count": 27,
   "source": [
    "msg = B(100)"
   ],
   "outputs": [],
   "metadata": {}
  },
  {
   "cell_type": "code",
   "execution_count": 28,
   "source": [
    "N, p, q, a = 1201, 3, 12011, 1\n",
    "df, dg, dr = 500, 501, 502 # Ensure that these are all < N\n",
    "\n",
    "params = [msg, N, p, q, a, df, dg, dr]"
   ],
   "outputs": [],
   "metadata": {}
  },
  {
   "cell_type": "code",
   "execution_count": 29,
   "source": [
    "%timeit -r 50 -n 7 test_NTRU(params)"
   ],
   "outputs": [
    {
     "output_type": "stream",
     "name": "stdout",
     "text": [
      "9.15 s ± 1.48 s per loop (mean ± std. dev. of 50 runs, 7 loops each)\n"
     ]
    }
   ],
   "metadata": {}
  },
  {
   "cell_type": "code",
   "execution_count": 30,
   "source": [
    "params[4] = 8"
   ],
   "outputs": [],
   "metadata": {}
  },
  {
   "cell_type": "code",
   "execution_count": 31,
   "source": [
    "%timeit -r 50 -n 7 test_NTRU(params)"
   ],
   "outputs": [
    {
     "output_type": "stream",
     "name": "stdout",
     "text": [
      "8.99 s ± 1.31 s per loop (mean ± std. dev. of 50 runs, 7 loops each)\n"
     ]
    }
   ],
   "metadata": {}
  }
 ],
 "metadata": {
  "orig_nbformat": 4,
  "language_info": {
   "name": "python",
   "version": "3.8.8",
   "mimetype": "text/x-python",
   "codemirror_mode": {
    "name": "ipython",
    "version": 3
   },
   "pygments_lexer": "ipython3",
   "nbconvert_exporter": "python",
   "file_extension": ".py"
  },
  "kernelspec": {
   "name": "python3",
   "display_name": "Python 3.8.8 64-bit"
  },
  "interpreter": {
   "hash": "539472148420576740dd1538b292eda56f8fb78ed829a7778563948d276bd7e0"
  }
 },
 "nbformat": 4,
 "nbformat_minor": 2
}